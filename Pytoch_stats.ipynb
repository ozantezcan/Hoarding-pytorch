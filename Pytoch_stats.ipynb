{
 "cells": [
  {
   "cell_type": "code",
   "execution_count": 1,
   "metadata": {
    "collapsed": false,
    "deletable": true,
    "editable": true
   },
   "outputs": [
    {
     "name": "stderr",
     "output_type": "stream",
     "text": [
      "/home/mtezcan/anaconda3/lib/python3.6/site-packages/torchsample-0.1.2-py3.6.egg/torchsample/datasets.py:16: UserWarning: Cant import nibabel.. Cant load brain images\n"
     ]
    }
   ],
   "source": [
    "%matplotlib inline\n",
    "# License: BSD\n",
    "# Author: Sasank Chilamkurthy\n",
    "\n",
    "from __future__ import print_function, division\n",
    "\n",
    "import torch\n",
    "import torch.nn as nn\n",
    "import torch.optim as optim\n",
    "from torch.autograd import Variable\n",
    "import numpy as np\n",
    "import torchvision\n",
    "from torchvision import datasets, models, transforms\n",
    "import torchsample\n",
    "from torchsample import transforms as ts_transforms\n",
    "import matplotlib.pyplot as plt\n",
    "import time\n",
    "import copy\n",
    "import os\n",
    "from PIL import Image\n",
    "from sklearn.manifold import TSNE\n",
    "import seaborn as sns\n",
    "\n",
    "#from torchsample.transforms import RangeNorm\n",
    "\n",
    "import functions.fine_tune as ft\n",
    "import functions.stats as st\n",
    "\n",
    "plt.ion()   # interactive mode"
   ]
  },
  {
   "cell_type": "code",
   "execution_count": 68,
   "metadata": {
    "collapsed": false,
    "deletable": true,
    "editable": true,
    "scrolled": true
   },
   "outputs": [
    {
     "name": "stdout",
     "output_type": "stream",
     "text": [
      "ResNet (\n",
      "  (conv1): Conv2d(3, 64, kernel_size=(7, 7), stride=(2, 2), padding=(3, 3), bias=False)\n",
      "  (bn1): BatchNorm2d(64, eps=1e-05, momentum=0.1, affine=True)\n",
      "  (relu): ReLU (inplace)\n",
      "  (maxpool): MaxPool2d (size=(3, 3), stride=(2, 2), padding=(1, 1), dilation=(1, 1))\n",
      "  (layer1): Sequential (\n",
      "    (0): Bottleneck (\n",
      "      (conv1): Conv2d(64, 64, kernel_size=(1, 1), stride=(1, 1), bias=False)\n",
      "      (bn1): BatchNorm2d(64, eps=1e-05, momentum=0.1, affine=True)\n",
      "      (conv2): Conv2d(64, 64, kernel_size=(3, 3), stride=(1, 1), padding=(1, 1), bias=False)\n",
      "      (bn2): BatchNorm2d(64, eps=1e-05, momentum=0.1, affine=True)\n",
      "      (conv3): Conv2d(64, 256, kernel_size=(1, 1), stride=(1, 1), bias=False)\n",
      "      (bn3): BatchNorm2d(256, eps=1e-05, momentum=0.1, affine=True)\n",
      "      (relu): ReLU (inplace)\n",
      "      (downsample): Sequential (\n",
      "        (0): Conv2d(64, 256, kernel_size=(1, 1), stride=(1, 1), bias=False)\n",
      "        (1): BatchNorm2d(256, eps=1e-05, momentum=0.1, affine=True)\n",
      "      )\n",
      "    )\n",
      "    (1): Bottleneck (\n",
      "      (conv1): Conv2d(256, 64, kernel_size=(1, 1), stride=(1, 1), bias=False)\n",
      "      (bn1): BatchNorm2d(64, eps=1e-05, momentum=0.1, affine=True)\n",
      "      (conv2): Conv2d(64, 64, kernel_size=(3, 3), stride=(1, 1), padding=(1, 1), bias=False)\n",
      "      (bn2): BatchNorm2d(64, eps=1e-05, momentum=0.1, affine=True)\n",
      "      (conv3): Conv2d(64, 256, kernel_size=(1, 1), stride=(1, 1), bias=False)\n",
      "      (bn3): BatchNorm2d(256, eps=1e-05, momentum=0.1, affine=True)\n",
      "      (relu): ReLU (inplace)\n",
      "    )\n",
      "    (2): Bottleneck (\n",
      "      (conv1): Conv2d(256, 64, kernel_size=(1, 1), stride=(1, 1), bias=False)\n",
      "      (bn1): BatchNorm2d(64, eps=1e-05, momentum=0.1, affine=True)\n",
      "      (conv2): Conv2d(64, 64, kernel_size=(3, 3), stride=(1, 1), padding=(1, 1), bias=False)\n",
      "      (bn2): BatchNorm2d(64, eps=1e-05, momentum=0.1, affine=True)\n",
      "      (conv3): Conv2d(64, 256, kernel_size=(1, 1), stride=(1, 1), bias=False)\n",
      "      (bn3): BatchNorm2d(256, eps=1e-05, momentum=0.1, affine=True)\n",
      "      (relu): ReLU (inplace)\n",
      "    )\n",
      "  )\n",
      "  (layer2): Sequential (\n",
      "    (0): Bottleneck (\n",
      "      (conv1): Conv2d(256, 128, kernel_size=(1, 1), stride=(1, 1), bias=False)\n",
      "      (bn1): BatchNorm2d(128, eps=1e-05, momentum=0.1, affine=True)\n",
      "      (conv2): Conv2d(128, 128, kernel_size=(3, 3), stride=(2, 2), padding=(1, 1), bias=False)\n",
      "      (bn2): BatchNorm2d(128, eps=1e-05, momentum=0.1, affine=True)\n",
      "      (conv3): Conv2d(128, 512, kernel_size=(1, 1), stride=(1, 1), bias=False)\n",
      "      (bn3): BatchNorm2d(512, eps=1e-05, momentum=0.1, affine=True)\n",
      "      (relu): ReLU (inplace)\n",
      "      (downsample): Sequential (\n",
      "        (0): Conv2d(256, 512, kernel_size=(1, 1), stride=(2, 2), bias=False)\n",
      "        (1): BatchNorm2d(512, eps=1e-05, momentum=0.1, affine=True)\n",
      "      )\n",
      "    )\n",
      "    (1): Bottleneck (\n",
      "      (conv1): Conv2d(512, 128, kernel_size=(1, 1), stride=(1, 1), bias=False)\n",
      "      (bn1): BatchNorm2d(128, eps=1e-05, momentum=0.1, affine=True)\n",
      "      (conv2): Conv2d(128, 128, kernel_size=(3, 3), stride=(1, 1), padding=(1, 1), bias=False)\n",
      "      (bn2): BatchNorm2d(128, eps=1e-05, momentum=0.1, affine=True)\n",
      "      (conv3): Conv2d(128, 512, kernel_size=(1, 1), stride=(1, 1), bias=False)\n",
      "      (bn3): BatchNorm2d(512, eps=1e-05, momentum=0.1, affine=True)\n",
      "      (relu): ReLU (inplace)\n",
      "    )\n",
      "    (2): Bottleneck (\n",
      "      (conv1): Conv2d(512, 128, kernel_size=(1, 1), stride=(1, 1), bias=False)\n",
      "      (bn1): BatchNorm2d(128, eps=1e-05, momentum=0.1, affine=True)\n",
      "      (conv2): Conv2d(128, 128, kernel_size=(3, 3), stride=(1, 1), padding=(1, 1), bias=False)\n",
      "      (bn2): BatchNorm2d(128, eps=1e-05, momentum=0.1, affine=True)\n",
      "      (conv3): Conv2d(128, 512, kernel_size=(1, 1), stride=(1, 1), bias=False)\n",
      "      (bn3): BatchNorm2d(512, eps=1e-05, momentum=0.1, affine=True)\n",
      "      (relu): ReLU (inplace)\n",
      "    )\n",
      "    (3): Bottleneck (\n",
      "      (conv1): Conv2d(512, 128, kernel_size=(1, 1), stride=(1, 1), bias=False)\n",
      "      (bn1): BatchNorm2d(128, eps=1e-05, momentum=0.1, affine=True)\n",
      "      (conv2): Conv2d(128, 128, kernel_size=(3, 3), stride=(1, 1), padding=(1, 1), bias=False)\n",
      "      (bn2): BatchNorm2d(128, eps=1e-05, momentum=0.1, affine=True)\n",
      "      (conv3): Conv2d(128, 512, kernel_size=(1, 1), stride=(1, 1), bias=False)\n",
      "      (bn3): BatchNorm2d(512, eps=1e-05, momentum=0.1, affine=True)\n",
      "      (relu): ReLU (inplace)\n",
      "    )\n",
      "  )\n",
      "  (layer3): Sequential (\n",
      "    (0): Bottleneck (\n",
      "      (conv1): Conv2d(512, 256, kernel_size=(1, 1), stride=(1, 1), bias=False)\n",
      "      (bn1): BatchNorm2d(256, eps=1e-05, momentum=0.1, affine=True)\n",
      "      (conv2): Conv2d(256, 256, kernel_size=(3, 3), stride=(2, 2), padding=(1, 1), bias=False)\n",
      "      (bn2): BatchNorm2d(256, eps=1e-05, momentum=0.1, affine=True)\n",
      "      (conv3): Conv2d(256, 1024, kernel_size=(1, 1), stride=(1, 1), bias=False)\n",
      "      (bn3): BatchNorm2d(1024, eps=1e-05, momentum=0.1, affine=True)\n",
      "      (relu): ReLU (inplace)\n",
      "      (downsample): Sequential (\n",
      "        (0): Conv2d(512, 1024, kernel_size=(1, 1), stride=(2, 2), bias=False)\n",
      "        (1): BatchNorm2d(1024, eps=1e-05, momentum=0.1, affine=True)\n",
      "      )\n",
      "    )\n",
      "    (1): Bottleneck (\n",
      "      (conv1): Conv2d(1024, 256, kernel_size=(1, 1), stride=(1, 1), bias=False)\n",
      "      (bn1): BatchNorm2d(256, eps=1e-05, momentum=0.1, affine=True)\n",
      "      (conv2): Conv2d(256, 256, kernel_size=(3, 3), stride=(1, 1), padding=(1, 1), bias=False)\n",
      "      (bn2): BatchNorm2d(256, eps=1e-05, momentum=0.1, affine=True)\n",
      "      (conv3): Conv2d(256, 1024, kernel_size=(1, 1), stride=(1, 1), bias=False)\n",
      "      (bn3): BatchNorm2d(1024, eps=1e-05, momentum=0.1, affine=True)\n",
      "      (relu): ReLU (inplace)\n",
      "    )\n",
      "    (2): Bottleneck (\n",
      "      (conv1): Conv2d(1024, 256, kernel_size=(1, 1), stride=(1, 1), bias=False)\n",
      "      (bn1): BatchNorm2d(256, eps=1e-05, momentum=0.1, affine=True)\n",
      "      (conv2): Conv2d(256, 256, kernel_size=(3, 3), stride=(1, 1), padding=(1, 1), bias=False)\n",
      "      (bn2): BatchNorm2d(256, eps=1e-05, momentum=0.1, affine=True)\n",
      "      (conv3): Conv2d(256, 1024, kernel_size=(1, 1), stride=(1, 1), bias=False)\n",
      "      (bn3): BatchNorm2d(1024, eps=1e-05, momentum=0.1, affine=True)\n",
      "      (relu): ReLU (inplace)\n",
      "    )\n",
      "    (3): Bottleneck (\n",
      "      (conv1): Conv2d(1024, 256, kernel_size=(1, 1), stride=(1, 1), bias=False)\n",
      "      (bn1): BatchNorm2d(256, eps=1e-05, momentum=0.1, affine=True)\n",
      "      (conv2): Conv2d(256, 256, kernel_size=(3, 3), stride=(1, 1), padding=(1, 1), bias=False)\n",
      "      (bn2): BatchNorm2d(256, eps=1e-05, momentum=0.1, affine=True)\n",
      "      (conv3): Conv2d(256, 1024, kernel_size=(1, 1), stride=(1, 1), bias=False)\n",
      "      (bn3): BatchNorm2d(1024, eps=1e-05, momentum=0.1, affine=True)\n",
      "      (relu): ReLU (inplace)\n",
      "    )\n",
      "    (4): Bottleneck (\n",
      "      (conv1): Conv2d(1024, 256, kernel_size=(1, 1), stride=(1, 1), bias=False)\n",
      "      (bn1): BatchNorm2d(256, eps=1e-05, momentum=0.1, affine=True)\n",
      "      (conv2): Conv2d(256, 256, kernel_size=(3, 3), stride=(1, 1), padding=(1, 1), bias=False)\n",
      "      (bn2): BatchNorm2d(256, eps=1e-05, momentum=0.1, affine=True)\n",
      "      (conv3): Conv2d(256, 1024, kernel_size=(1, 1), stride=(1, 1), bias=False)\n",
      "      (bn3): BatchNorm2d(1024, eps=1e-05, momentum=0.1, affine=True)\n",
      "      (relu): ReLU (inplace)\n",
      "    )\n",
      "    (5): Bottleneck (\n",
      "      (conv1): Conv2d(1024, 256, kernel_size=(1, 1), stride=(1, 1), bias=False)\n",
      "      (bn1): BatchNorm2d(256, eps=1e-05, momentum=0.1, affine=True)\n",
      "      (conv2): Conv2d(256, 256, kernel_size=(3, 3), stride=(1, 1), padding=(1, 1), bias=False)\n",
      "      (bn2): BatchNorm2d(256, eps=1e-05, momentum=0.1, affine=True)\n",
      "      (conv3): Conv2d(256, 1024, kernel_size=(1, 1), stride=(1, 1), bias=False)\n",
      "      (bn3): BatchNorm2d(1024, eps=1e-05, momentum=0.1, affine=True)\n",
      "      (relu): ReLU (inplace)\n",
      "    )\n",
      "  )\n",
      "  (layer4): Sequential (\n",
      "    (0): Bottleneck (\n",
      "      (conv1): Conv2d(1024, 512, kernel_size=(1, 1), stride=(1, 1), bias=False)\n",
      "      (bn1): BatchNorm2d(512, eps=1e-05, momentum=0.1, affine=True)\n",
      "      (conv2): Conv2d(512, 512, kernel_size=(3, 3), stride=(2, 2), padding=(1, 1), bias=False)\n",
      "      (bn2): BatchNorm2d(512, eps=1e-05, momentum=0.1, affine=True)\n",
      "      (conv3): Conv2d(512, 2048, kernel_size=(1, 1), stride=(1, 1), bias=False)\n",
      "      (bn3): BatchNorm2d(2048, eps=1e-05, momentum=0.1, affine=True)\n",
      "      (relu): ReLU (inplace)\n",
      "      (downsample): Sequential (\n",
      "        (0): Conv2d(1024, 2048, kernel_size=(1, 1), stride=(2, 2), bias=False)\n",
      "        (1): BatchNorm2d(2048, eps=1e-05, momentum=0.1, affine=True)\n",
      "      )\n",
      "    )\n",
      "    (1): Bottleneck (\n",
      "      (conv1): Conv2d(2048, 512, kernel_size=(1, 1), stride=(1, 1), bias=False)\n",
      "      (bn1): BatchNorm2d(512, eps=1e-05, momentum=0.1, affine=True)\n",
      "      (conv2): Conv2d(512, 512, kernel_size=(3, 3), stride=(1, 1), padding=(1, 1), bias=False)\n",
      "      (bn2): BatchNorm2d(512, eps=1e-05, momentum=0.1, affine=True)\n",
      "      (conv3): Conv2d(512, 2048, kernel_size=(1, 1), stride=(1, 1), bias=False)\n",
      "      (bn3): BatchNorm2d(2048, eps=1e-05, momentum=0.1, affine=True)\n",
      "      (relu): ReLU (inplace)\n",
      "    )\n",
      "    (2): Bottleneck (\n",
      "      (conv1): Conv2d(2048, 512, kernel_size=(1, 1), stride=(1, 1), bias=False)\n",
      "      (bn1): BatchNorm2d(512, eps=1e-05, momentum=0.1, affine=True)\n",
      "      (conv2): Conv2d(512, 512, kernel_size=(3, 3), stride=(1, 1), padding=(1, 1), bias=False)\n",
      "      (bn2): BatchNorm2d(512, eps=1e-05, momentum=0.1, affine=True)\n",
      "      (conv3): Conv2d(512, 2048, kernel_size=(1, 1), stride=(1, 1), bias=False)\n",
      "      (bn3): BatchNorm2d(2048, eps=1e-05, momentum=0.1, affine=True)\n",
      "      (relu): ReLU (inplace)\n",
      "    )\n",
      "  )\n",
      "  (avgpool): AvgPool2d (\n",
      "  )\n",
      "  (fc): Linear (2048 -> 9)\n",
      ")\n"
     ]
    }
   ],
   "source": [
    "#model_ft = models.resnet18(pretrained=True).cuda()\n",
    "model_ft=torch.load('./saved_models/resnet18_real_sgd_multisoft_August29  19:42:44')\n",
    "#model_ft=torch.load('./Obsolete/saved_models/resnet18_multi_88_real_7_15_17.mdl')\n",
    "#model_ft.train(False)\n",
    "\n",
    "print(model_ft)"
   ]
  },
  {
   "cell_type": "code",
   "execution_count": 65,
   "metadata": {
    "collapsed": false,
    "deletable": true,
    "editable": true
   },
   "outputs": [
    {
     "name": "stdout",
     "output_type": "stream",
     "text": [
      "Created random directories\n",
      "768\n",
      "329\n"
     ]
    }
   ],
   "source": [
    "dataset='real'\n",
    "if(dataset=='real'):\n",
    "    rootdir='//home//mtezcan//Documents//Hoarding//Data_Sets//pruned//good//train//'  \n",
    "    tr_dirs, tr_cir, tr_house, tr_room = st.subsetCreator(rootdir,multi_dir=False,im_per_room=0,roomdirs=[''])\n",
    "\n",
    "    rootdir='//home//mtezcan//Documents//Hoarding//Data_Sets//pruned//good//val//'  \n",
    "    test_dirs, test_cir, test_house, test_room = st.subsetCreator(rootdir,im_per_room=0,multi_dir=False,roomdirs=[''])\n",
    "elif(dataset=='synthetic'):\n",
    "    rootdir='//media//mtezcan//New Volume//HoardingImages//_rated//'\n",
    "    tr_dirs, tr_cir, tr_house, tr_room = st.subsetCreator(rootdir,im_per_room=10)\n",
    "    rootdir='//media//mtezcan//New Volume//HoardingImages//_val//'\n",
    "    test_dirs, test_cir, test_house, test_room = st.subsetCreator(rootdir,im_per_room=40)\n",
    "else:\n",
    "    raise ValueError('Undefined dataset '+dataset)\n",
    "\n",
    "print('Created random directories')\n",
    "print(len(tr_dirs))\n",
    "print(len(test_dirs))"
   ]
  },
  {
   "cell_type": "code",
   "execution_count": 69,
   "metadata": {
    "collapsed": false
   },
   "outputs": [
    {
     "name": "stdout",
     "output_type": "stream",
     "text": [
      "(768, 9)\n",
      "(329, 9)\n"
     ]
    }
   ],
   "source": [
    "tr_smax=st.extractFeats(tr_dirs,model_ft,outsize=9)\n",
    "test_smax=st.extractFeats(test_dirs,model_ft,outsize=9)\n",
    "print(tr_smax.shape)\n",
    "print(test_smax.shape)"
   ]
  },
  {
   "cell_type": "code",
   "execution_count": 71,
   "metadata": {
    "collapsed": false
   },
   "outputs": [
    {
     "name": "stdout",
     "output_type": "stream",
     "text": [
      "(768,)\n",
      "(900,)\n"
     ]
    },
    {
     "ename": "ValueError",
     "evalue": "operands could not be broadcast together with shapes (329,) (900,) ",
     "output_type": "error",
     "traceback": [
      "\u001b[0;31m---------------------------------------------------------------------------\u001b[0m",
      "\u001b[0;31mValueError\u001b[0m                                Traceback (most recent call last)",
      "\u001b[0;32m<ipython-input-71-d935050b4113>\u001b[0m in \u001b[0;36m<module>\u001b[0;34m()\u001b[0m\n\u001b[1;32m      6\u001b[0m \u001b[0mprint\u001b[0m\u001b[0;34m(\u001b[0m\u001b[0mtest_pred\u001b[0m\u001b[0;34m.\u001b[0m\u001b[0mshape\u001b[0m\u001b[0;34m)\u001b[0m\u001b[0;34m\u001b[0m\u001b[0m\n\u001b[1;32m      7\u001b[0m \u001b[0mtr_err\u001b[0m\u001b[0;34m=\u001b[0m\u001b[0mnp\u001b[0m\u001b[0;34m.\u001b[0m\u001b[0mabs\u001b[0m\u001b[0;34m(\u001b[0m\u001b[0mtr_cir\u001b[0m\u001b[0;34m-\u001b[0m\u001b[0mtr_pred\u001b[0m\u001b[0;34m)\u001b[0m\u001b[0;34m\u001b[0m\u001b[0m\n\u001b[0;32m----> 8\u001b[0;31m \u001b[0mtest_err\u001b[0m\u001b[0;34m=\u001b[0m\u001b[0mnp\u001b[0m\u001b[0;34m.\u001b[0m\u001b[0mabs\u001b[0m\u001b[0;34m(\u001b[0m\u001b[0mtest_cir\u001b[0m\u001b[0;34m-\u001b[0m\u001b[0mtest_pred\u001b[0m\u001b[0;34m)\u001b[0m\u001b[0;34m\u001b[0m\u001b[0m\n\u001b[0m\u001b[1;32m      9\u001b[0m \u001b[0mprint\u001b[0m\u001b[0;34m(\u001b[0m\u001b[0mnp\u001b[0m\u001b[0;34m.\u001b[0m\u001b[0mhistogram\u001b[0m\u001b[0;34m(\u001b[0m\u001b[0mtest_err\u001b[0m\u001b[0;34m)\u001b[0m\u001b[0;34m)\u001b[0m\u001b[0;34m\u001b[0m\u001b[0m\n\u001b[1;32m     10\u001b[0m \u001b[0;31m#print(test_pred[test_cir==2])\u001b[0m\u001b[0;34m\u001b[0m\u001b[0;34m\u001b[0m\u001b[0m\n",
      "\u001b[0;31mValueError\u001b[0m: operands could not be broadcast together with shapes (329,) (900,) "
     ]
    }
   ],
   "source": [
    "test_smax=test_smax_1\n",
    "tr_pred=np.argmax(tr_smax,axis=1)+1\n",
    "test_pred=np.argmax(test_smax,axis=1)+1\n",
    "\n",
    "print(tr_pred.shape)\n",
    "print(test_pred.shape)\n",
    "tr_err=np.abs(tr_cir-tr_pred)\n",
    "test_err=np.abs(test_cir-test_pred)\n",
    "print(np.histogram(test_err))\n",
    "#print(test_pred[test_cir==2])\n",
    "print('Training CIR-1 is '+str(np.mean(tr_err<=1)))\n",
    "print('Test CIR-1 is '+str(np.mean(test_err<=1)))"
   ]
  },
  {
   "cell_type": "code",
   "execution_count": 54,
   "metadata": {
    "collapsed": false
   },
   "outputs": [
    {
     "name": "stdout",
     "output_type": "stream",
     "text": [
      "[ 4.25966311  2.28413105  4.25966311  5.86528015  6.07927227  3.75277114\n",
      "  3.34321642  2.28413105  4.6747942   3.80091453  5.34845352  5.21347189\n",
      "  4.25966311  2.85428023  4.4571991   3.80091453  5.86528015  6.07927227\n",
      "  5.77204084  3.93758011  5.32595491  3.80091453  3.80091453  5.77204084\n",
      "  2.28413105  5.86528015  3.34321642  6.71327591  2.28413105  4.6747942\n",
      "  2.85428023  2.85428023  6.71327591  5.21347189  3.80091453  3.93758011\n",
      "  5.16040802  4.4571991   5.7379117   6.07927227  5.67225409  5.34845352\n",
      "  4.4571991   5.77204084  6.07927227  5.97109795  2.77540565  5.32595491\n",
      "  2.85428023  5.21347189  1.25624812  5.87951183  5.67225409  3.34321642\n",
      "  5.77204084  5.16040802  6.71327591  0.93014795  2.82284021  0.93014795\n",
      "  5.87951183  5.86528015  3.75277114  3.80091453  5.16040802  4.6747942\n",
      "  3.80091453  0.93014795  5.16040802  5.21347189  3.80091453  5.34845352\n",
      "  5.97109795  5.97109795  6.07927227  2.82284021  2.82284021  5.77204084\n",
      "  5.87951183  5.97109795  5.77204084  1.25624812  3.80091453  3.34321642\n",
      "  5.16040802  2.28413105  5.7379117   2.85428023  5.32595491  2.85428023\n",
      "  4.25966311  0.93014795  5.16040802  5.67225409  5.16040802  3.34321642\n",
      "  5.97109795  4.25966311  4.6747942   2.82284021  1.85440183  0.24654898\n",
      "  0.37444079  1.85440183  3.83832932  0.24654898  4.6864109   4.78366089\n",
      "  4.78366089  2.32508492  1.4385128   0.46531835  1.85440183  2.82212019\n",
      "  2.28918648  6.75477266  3.01503205  0.15025569  4.21025991  5.383255\n",
      "  6.72761583  2.82212019  4.18838549  2.64439607  2.31982112  7.93867683\n",
      "  2.04096746  3.12492895  2.31982112  4.6864109   3.83832932  2.06383586\n",
      "  3.12492895  3.09396505  1.77664304  3.14530849  3.01503205  7.93867683\n",
      "  2.32508492  1.16866255  0.24654898  3.12492895  2.65513444  2.31982112\n",
      "  7.93867683  3.14530849  1.21179903  6.72761583  2.64439607  3.12492895\n",
      "  5.383255    3.99049878  3.01503205  1.21179903  5.58924198  3.6580596\n",
      "  3.12492895  4.18838549  5.58924198  3.6580596   4.18838549  6.75477266\n",
      "  3.01503205  5.383255    4.18838549  3.7053442   0.15025569  4.78366089\n",
      "  1.21179903  2.51897788 -0.30070373  4.78366089  1.21179903 -1.00410795\n",
      "  1.85440183  2.06383586 -0.30070373  4.37237787  2.28918648  1.85440183\n",
      "  5.32787037  1.21179903  1.16866255  3.7053442   2.28918648  3.11958742\n",
      "  0.15025569  1.21179903  2.28918648  2.82212019  6.72761583  5.58924198\n",
      "  2.06383586  3.09396505  1.4385128   1.16866255  4.6864109  -1.00410795\n",
      " -0.30070373  5.383255    2.57161689  2.07285047  3.89197373  1.06687295\n",
      "  0.12299126  1.06687295  1.80109274  3.18493533 -0.31904754  2.73866367\n",
      "  1.46940625  0.42504123  1.06687295  1.16786659  2.34398985  0.47383761\n",
      "  2.73866367  3.18493533  2.46557212  1.17818558  2.18125367  1.46940625\n",
      "  0.12299126  2.07285047  2.08339286  1.46940625  3.18493533  0.66854393\n",
      "  2.49439669  2.57161689  2.49439669  2.08339286  0.66854393  2.73866367\n",
      " -0.31904754  2.18125367  1.80109274  5.08013916  2.08339286  0.42504123\n",
      "  2.57161689  2.49439669  2.56612897  0.66854393  2.07285047 -0.35855621\n",
      "  3.06514144  2.73866367  0.12299126  3.18493533  1.46940625  2.56612897\n",
      "  1.46940625  0.42504123  2.08339286 -0.35855621  1.46940625  0.47383761\n",
      "  1.46940625  2.46557212  3.06514144  3.33718514  2.18125367  5.08013916\n",
      "  1.80109274  1.06687295  0.42504123  3.18493533  2.57161689  1.46940625\n",
      "  2.73866367  2.08339286 -0.94559032  2.56612897  1.17818558  2.49439669\n",
      "  1.08660662  0.47383761  2.08339286  0.12299126  3.18493533  2.57161689\n",
      "  2.34398985  2.49439669  3.02314115  3.06514144  1.80109274  2.18125367\n",
      "  0.66854393  3.33718514  1.47501481  3.33718514  2.08339286  1.46940625\n",
      "  1.08660662  0.12299126  2.73866367  3.06514144 -0.35855621  5.08013916\n",
      "  1.06231582  2.95163918  2.06756592  0.77833158  1.06231582  0.77833158\n",
      "  1.06231582  2.03314471  1.06231582  0.04969677  2.95163918  2.95163918\n",
      "  2.14664817 -0.2560263   1.91492617  3.46293855  1.31639683  2.03314471\n",
      "  2.01188135  2.39788532  1.10613954  1.10613954  3.65622878  0.77833158\n",
      " -0.2560263   1.31639683 -0.21425372  1.06231582  0.81824797  1.10613954\n",
      "  1.63477063  3.46293855  3.99671006  1.03842247  0.04969677  0.85643524\n",
      "  1.03842247  0.04969677  0.85643524  0.04969677  2.39788532 -0.21425372\n",
      "  0.81824797  2.14664817  3.65622878  1.06231582  1.10613954 -0.21425372\n",
      "  1.06231582  1.63477063  1.06231582  0.77833158  0.77833158  2.39788532\n",
      "  2.95163918  0.81824797  1.10613954  0.81824797  1.10613954  3.65622878\n",
      "  2.95163918  1.91492617  2.14664817  2.39788532  1.06231582  3.65622878\n",
      "  1.10613954  0.04969677  1.91492617 -0.62721276  1.26429963  3.99671006\n",
      "  3.65622878 -0.21425372  0.77833158  1.26429963 -0.21425372  0.81824797\n",
      "  3.46293855  2.95163918 -0.2560263   0.81824797  1.10613954 -0.21425372\n",
      "  0.81824797  3.46293855  1.63477063  2.01188135  2.95163918  1.06231582\n",
      "  2.03314471  1.03842247 -0.21425372  2.39788532  2.01188135  2.39788532\n",
      " -0.21425372 -0.62721276  2.01188135  2.06756592  1.81106246  1.20246994\n",
      "  3.96739697  2.4204514   1.71324825  1.27611041  1.86609495  1.27611041\n",
      " -0.10997823  3.00027633  4.5093441   2.13740253  0.51827818  3.41445208\n",
      "  2.63774538  2.13740253  4.5093441   3.96739697  2.4204514  -0.10997823\n",
      "  1.20246994  3.41445208  4.51731348  3.14958     2.4204514   1.84141088\n",
      "  0.72387761  1.7214514   1.55307198  0.96089417  2.19837093  2.63774538\n",
      "  3.96739697  3.14958     0.78837037  3.00027633  3.00027633  0.96089417\n",
      "  2.89753914  1.75672293  1.71324825  1.86609495  0.96089417  4.5093441\n",
      "  1.7214514   2.19837093  1.92736709  1.81106246  1.81666541  0.78837037\n",
      "  1.36538541  1.71324825  0.14441422  3.14958     2.89753914  0.14441422\n",
      "  1.81106246  2.63774538  1.92736709  1.70939982  3.00027633  1.20246994\n",
      "  2.4204514   3.14958     1.01119637  3.00027633  1.16137278  0.72387761\n",
      "  2.89753914  0.72387761  1.92736709  1.36538541  0.78837037  0.14441422\n",
      "  3.00027633 -0.10997823  4.5093441   3.41445208  0.72387761  1.36538541\n",
      "  2.4204514   1.55307198  1.28078175  3.14958     2.19837093  1.16640103\n",
      "  2.4204514   1.27611041  1.70939982  2.63774538  0.78837037  2.89753914\n",
      "  1.81666541 -0.04163458  2.89753914  0.51827818  1.36538541  1.81666541\n",
      " -0.10997823  3.14958     1.7103858   1.92412686  0.96261895  1.05299652\n",
      "  1.92412686  2.84880066  1.23563135  0.82863551  2.0553      1.8610723\n",
      "  1.66878057  1.92600477  3.64039373  1.8610723   1.35598612  0.97560322\n",
      "  1.54890358  1.7103858   0.82863551  0.51050979  1.33966172  1.85724461\n",
      "  2.36673665  0.45290869 -0.04891184  1.50350523  1.92412686  1.50350523\n",
      "  1.33586562  1.92600477  1.92600477  1.8610723   0.45290869  3.64039373\n",
      " -0.81279802  0.43406183  1.92600477  3.64039373  2.45478988  0.43406183\n",
      "  1.58082056  0.22307193  3.64039373  1.33586562  1.23563135  0.96261895\n",
      "  3.46632767  0.85583037  0.82863551 -0.81279802  0.24416661  2.0553\n",
      "  2.36673665  0.82863551  0.24416661  3.64039373  1.33586562  1.92412686\n",
      "  1.05299652  1.1054033   1.85724461  2.46835756  3.64039373  0.96261895\n",
      "  1.66878057 -0.81279802  3.2919836   2.36673665  1.7103858  -0.81279802\n",
      "  1.35598612  1.93744481  1.05299652  3.46632767  2.0553      1.33966172\n",
      "  1.9327805   1.1054033   3.2919836   3.2919836   4.14515305  1.23563135\n",
      "  1.66878057  1.33966172  1.05299652  1.93744481  3.2919836   1.92412686\n",
      "  1.7103858   1.58082056  1.58082056  1.51005077  0.97560322  1.87282407\n",
      "  1.33586562  3.46632767  1.58082056  0.22307193  1.92412686  0.82863551\n",
      "  1.84471619  1.66878057  2.77288175  2.49228573  1.1054033   3.10759592\n",
      "  2.20306325  0.81641024  1.76025569  1.01705909  1.24575424  0.6244449\n",
      "  0.36347136  1.51005077  0.36347136  0.6244449   2.08736396  1.51005077\n",
      "  2.55574703 -0.04566185  1.56638205  1.31237984  1.24575424  0.36347136\n",
      "  4.86636114  1.11082816  2.20306325  1.1054033   1.82267749  1.66936564\n",
      " -0.02591507  1.56638205  0.6244449   2.85539961  1.48362172  2.80862832\n",
      "  1.1054033   1.11404371  1.89891827  2.43849564  1.8530618   1.8530618\n",
      "  1.27171075  0.6244449   3.10759592  2.49228573  1.66936564  4.41585732\n",
      "  4.41585732  2.43849564  1.80080128  2.77288175  3.64883637  1.44928765\n",
      "  4.41585732  0.36347136  1.01705909  1.66878057  1.24575424  2.55574703\n",
      "  1.93165278  1.82267749  2.91468477  2.60329437  2.91468477  2.32287645\n",
      "  0.72483408  0.36347136  1.2754854   2.85539961  4.34099579  2.85539961\n",
      "  2.08736396  3.64883637  1.89891827 -0.02591507  3.71956372  0.96726\n",
      "  1.44928765  1.51005077  2.05505848  1.76025569  2.91468477  1.01705909\n",
      "  3.48295045  1.80080128  1.24575424  1.24575424  1.56638205  1.89891827\n",
      "  1.68990457  3.71956372  4.34099579  2.08736396  2.64611077  2.85539961\n",
      "  1.93165278  1.66878057  3.10759592  2.32287645  2.05960727  1.81237638\n",
      "  3.57516479  0.23317866  3.99065351  3.01767182  3.2898066   2.56424522\n",
      "  0.89255941  4.44865465  1.99444044  1.32853031 -0.31468046  0.23317866\n",
      "  4.3629241   3.01767182  3.65265942  3.65265942  1.32853031  4.3629241\n",
      "  3.31287789  1.51518774  0.71723771  3.01767182  0.23317866  2.8117733\n",
      "  1.71397007  4.815238    4.26107216  0.80315548  1.81237638 -0.31468046\n",
      "  0.76318383  3.6041832   2.73980355  1.51518774  3.31287789  3.92600679\n",
      "  3.01767182  0.89255941  4.815238    0.51988935  2.05960727  3.92600679\n",
      "  3.6041832   1.51518774  1.71397007  5.54634285  0.85617244  3.6041832\n",
      "  0.16583115  1.51518774  3.01767182  3.92600679 -0.31468046  4.44865465\n",
      "  1.51518774  3.65265942  0.71723771  0.80315548  3.57516479  1.32853031\n",
      "  0.76318383  0.80315548  3.92600679  4.26107216  2.56424522  5.54634285\n",
      "  3.55831742  3.92600679  4.44865465  2.8117733   2.73980355  2.73980355\n",
      "  3.6041832   3.65265942  4.32053757  3.65265942  4.3629241   3.1388371\n",
      "  2.73980355  0.85617244  3.01767182  3.55831742  3.92600679  1.81237638\n",
      "  0.23317866  3.55831742  5.54634285  0.16583115  1.48488498  3.31287789\n",
      "  4.815238    0.85617244  1.51518774  0.80315548  3.1388371   4.26247358\n",
      "  0.7345196   2.05960727  3.7156055   2.12933993  3.56908679  4.50785398\n",
      "  2.21030736  3.7156055   1.51518774  0.67683786  4.16426563  3.56778693\n",
      "  4.50785398  3.56778693  4.62612867  2.21030736  2.21030736  3.56908679\n",
      "  1.64083123  4.16426563  4.62612867  3.7156055   1.52984118  2.94956732\n",
      "  1.58254576  5.20268631  2.94956732  0.99303871  1.51518774  3.56778693\n",
      "  0.99303871  3.56778693  0.49862775  3.27097988  1.52244771  2.12933993\n",
      "  3.37768054  3.21406913  4.79101658  4.79101658  0.49862775  4.30806541\n",
      "  0.99303871  2.21030736  3.56908679  0.49862775  3.7156055   3.56908679\n",
      "  4.30806541  4.50785398  0.67683786  2.94956732  1.84110403  0.67683786\n",
      "  4.30806541  0.49862775  1.58254576  0.99303871  1.18196952  3.24542975\n",
      "  3.7156055   4.30806541  3.56908679  2.15899301  4.16426563  3.24542975\n",
      "  3.27097988  1.58254576  1.51518774  1.58254576  1.51518774  3.37768054\n",
      "  1.18196952  4.62612867  4.16426563  3.24542975  3.7156055   1.52984118\n",
      "  4.30806541  3.37768054  2.94956732  4.30806541  3.24542975  3.56908679\n",
      "  2.12933993  1.58254576  0.49862775  4.16426563  5.20268631  4.62612867\n",
      "  2.94956732  3.27097988  4.30806541  0.49862775  3.56908679  1.64083123\n",
      "  1.51518774  3.61099768  2.12934113  3.37768078  5.20268393  2.2103076 ]\n",
      "2.57831067017\n",
      "2.64880481364\n",
      "1.78700661549\n",
      "1.22280572476\n",
      "0.886395110024\n",
      "0.811111111111\n",
      "0.847945205479\n"
     ]
    },
    {
     "data": {
      "image/png": "[encoded data removed]",
      "text/plain": [
       "<matplotlib.figure.Figure at 0x7fd1fe2d3668>"
      ]
     },
     "metadata": {},
     "output_type": "display_data"
    }
   ],
   "source": [
    "test_scores=np.max(test_smax_1,axis=1)\n",
    "print(np.mean(test_scores[test_err==0]))\n",
    "print(np.mean(test_scores[test_err==1]))\n",
    "print(np.mean(test_scores[test_err==2]))\n",
    "print(np.mean(test_scores[test_err==3]))\n",
    "print(np.mean(test_scores[test_err==4]))\n",
    "plt.hist(test_scores)\n",
    "print(np.mean(test_scores>=1))\n",
    "print(np.mean(test_err[test_scores>=1]<=1))"
   ]
  },
  {
   "cell_type": "code",
   "execution_count": null,
   "metadata": {
    "collapsed": false
   },
   "outputs": [],
   "source": [
    "print('Test CIR-1 is '+str(np.mean(test_err[:900]<=1)))\n",
    "print('Test CIR-1 is '+str(np.mean(test_err[900:1800]<=1)))\n",
    "print('Test CIR-1 is '+str(np.mean(test_err[1800:]<=1)))"
   ]
  },
  {
   "cell_type": "code",
   "execution_count": null,
   "metadata": {
    "collapsed": false
   },
   "outputs": [],
   "source": [
    "\n",
    "plt.hist(test_pred,bins=range(1,11))\n"
   ]
  },
  {
   "cell_type": "code",
   "execution_count": null,
   "metadata": {
    "collapsed": false
   },
   "outputs": [],
   "source": [
    "cir0,cir1,cir2=st.class_based_cirs(test_cir,test_pred)\n",
    "print(cir1)"
   ]
  },
  {
   "cell_type": "code",
   "execution_count": null,
   "metadata": {
    "collapsed": false
   },
   "outputs": [],
   "source": [
    "plt.figure(figsize=(15,10))\n",
    "sns.boxplot(tr_cir,tr_pred)\n",
    "plt.title('Synthetic Training Set')\n",
    "plt.xlabel('Ground Truth')\n",
    "plt.ylabel('Predictions')\n",
    "\n",
    "plt.figure(figsize=(15,10))\n",
    "sns.boxplot(test_cir,test_pred)\n",
    "plt.title('Synthetic Validation Set')\n",
    "plt.xlabel('Ground Truth')\n",
    "plt.ylabel('Predictions')"
   ]
  },
  {
   "cell_type": "code",
   "execution_count": null,
   "metadata": {
    "collapsed": false
   },
   "outputs": [],
   "source": [
    "sns.jointplot(tr_cir,tr_pred,marginal_kws=dict(bins=range(1,11), rug=True))\n",
    "plt.title('Joint plot for training')\n",
    "plt.figure()\n",
    "sns.jointplot(test_cir,test_pred,marginal_kws=dict(bins=range(1,11), rug=True))\n",
    "plt.title('Joint plot for validation')"
   ]
  },
  {
   "cell_type": "code",
   "execution_count": null,
   "metadata": {
    "collapsed": false,
    "deletable": true,
    "editable": true
   },
   "outputs": [],
   "source": [
    "model_params= list(model_ft.children())\n",
    "network = nn.Sequential(*list(model_params)[:-1])\n",
    "print(network)\n",
    "tr_fvec=st.extractFeats(tr_dirs,network,batchsize=8,outsize=2048)\n",
    "test_fvec=st.extractFeats(test_dirs,network,batchsize=8,outsize=2048)\n",
    "\n",
    "print('Constructed Features')\n",
    "\n",
    "model = TSNE(n_components=2, random_state=0)\n",
    "np.set_printoptions(suppress=True)\n",
    "tr_tsne=model.fit_transform(tr_fvec) \n",
    "test_tsne=model.fit_transform(test_fvec)\n",
    "\n",
    "print('Constructed t-SNE embeddings')"
   ]
  },
  {
   "cell_type": "code",
   "execution_count": null,
   "metadata": {
    "collapsed": true
   },
   "outputs": [],
   "source": [
    "tsne_resnet=test_tsne.copy()"
   ]
  },
  {
   "cell_type": "code",
   "execution_count": null,
   "metadata": {
    "collapsed": false,
    "scrolled": false
   },
   "outputs": [],
   "source": [
    "plt.figure(figsize=(20,8))\n",
    "plt.subplot(121)\n",
    "plt.scatter(tr_tsne[:,0], tr_tsne[:,1], c=tr_cir, alpha=0.5)#,cmap='jet')\n",
    "plt.colorbar()\n",
    "plt.title('Training')\n",
    "plt.subplot(122)\n",
    "plt.scatter(test_tsne[:,0], test_tsne[:,1], c=test_cir, alpha=0.5)#,cmap='jet')\n",
    "plt.colorbar()\n",
    "plt.title('Validation')"
   ]
  },
  {
   "cell_type": "code",
   "execution_count": null,
   "metadata": {
    "collapsed": false,
    "deletable": true,
    "editable": true
   },
   "outputs": [],
   "source": [
    "st.plotAll(tr_tsne,tr_cir,tr_house,tr_room,data_title='Training')\n",
    "st.plotAll(test_tsne,test_cir,test_house,test_room,data_title='Test')"
   ]
  },
  {
   "cell_type": "code",
   "execution_count": null,
   "metadata": {
    "collapsed": false,
    "deletable": true,
    "editable": true
   },
   "outputs": [],
   "source": [
    "st.plotAll(tr_tsne,tr_cir,tr_house,tr_room,data_title='Training')\n",
    "st.plotAll(test_tsne,test_cir,test_house,test_room,data_title='Test')"
   ]
  }
 ],
 "metadata": {
  "kernelspec": {
   "display_name": "Python 3",
   "language": "python",
   "name": "python3"
  },
  "language_info": {
   "codemirror_mode": {
    "name": "ipython",
    "version": 3
   },
   "file_extension": ".py",
   "mimetype": "text/x-python",
   "name": "python",
   "nbconvert_exporter": "python",
   "pygments_lexer": "ipython3",
   "version": "3.6.0"
  }
 },
 "nbformat": 4,
 "nbformat_minor": 2
}
