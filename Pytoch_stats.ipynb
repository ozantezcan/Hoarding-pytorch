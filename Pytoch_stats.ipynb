{
 "cells": [
  {
   "cell_type": "code",
   "execution_count": null,
   "metadata": {
    "collapsed": false,
    "deletable": true,
    "editable": true
   },
   "outputs": [],
   "source": [
    "%matplotlib inline\n",
    "# License: BSD\n",
    "# Author: Sasank Chilamkurthy\n",
    "\n",
    "from __future__ import print_function, division\n",
    "\n",
    "import torch\n",
    "import torch.nn as nn\n",
    "import torch.optim as optim\n",
    "from torch.autograd import Variable\n",
    "import numpy as np\n",
    "import torchvision\n",
    "from torchvision import datasets, models, transforms\n",
    "import torchsample\n",
    "from torchsample import transforms as ts_transforms\n",
    "import matplotlib.pyplot as plt\n",
    "import time\n",
    "import copy\n",
    "import os\n",
    "from PIL import Image\n",
    "from sklearn.manifold import TSNE\n",
    "import seaborn as sns\n",
    "\n",
    "#from torchsample.transforms import RangeNorm\n",
    "\n",
    "import functions.fine_tune as ft\n",
    "import functions.stats as st\n",
    "\n",
    "plt.ion()   # interactive mode"
   ]
  },
  {
   "cell_type": "code",
   "execution_count": null,
   "metadata": {
    "collapsed": false,
    "deletable": true,
    "editable": true,
    "scrolled": true
   },
   "outputs": [],
   "source": [
    "#model_ft = models.resnet18(pretrained=True).cuda()\n",
    "model_ft=torch.load('./saved_models/resnet_real_multisoft_1300_100epoch_July19  13:56:48')\n",
    "#model_ft=torch.load('./Obsolete/saved_models/resnet18_multi_88_real_7_15_17.mdl')\n",
    "model_ft.train(False)\n",
    "print(model_ft)"
   ]
  },
  {
   "cell_type": "code",
   "execution_count": null,
   "metadata": {
    "collapsed": false,
    "deletable": true,
    "editable": true
   },
   "outputs": [],
   "source": [
    "dataset='real'\n",
    "if(dataset=='real'):\n",
    "    rootdir='//home//mtezcan//Documents//Hoarding//Data_Sets//pruned//good//train//'  \n",
    "    tr_dirs, tr_cir, tr_house, tr_room = st.subsetCreator(rootdir,multi_dir=False,im_per_room=100,roomdirs=[''])\n",
    "\n",
    "    rootdir='//home//mtezcan//Documents//Hoarding//Data_Sets//pruned//good//val//'  \n",
    "    test_dirs, test_cir, test_house, test_room = st.subsetCreator(rootdir,im_per_room=100,multi_dir=False,roomdirs=[''])\n",
    "elif(dataset=='synthetic'):\n",
    "    rootdir='//media//mtezcan//New Volume//HoardingImages//_rated//'\n",
    "    tr_dirs, tr_cir, tr_house, tr_room = st.subsetCreator(rootdir,im_per_room=10)\n",
    "    rootdir='//media//mtezcan//New Volume//HoardingImages//_val//'\n",
    "    test_dirs, test_cir, test_house, test_room = st.subsetCreator(rootdir,im_per_room=40)\n",
    "else:\n",
    "    raise ValueError('Undefined dataset '+dataset)\n",
    "\n",
    "print('Created random directories')\n",
    "print(len(tr_dirs))\n",
    "print(len(test_dirs))"
   ]
  },
  {
   "cell_type": "code",
   "execution_count": null,
   "metadata": {
    "collapsed": false
   },
   "outputs": [],
   "source": [
    "tr_smax=st.extractFeats(tr_dirs,model_ft,outsize=9)\n",
    "test_smax=st.extractFeats(test_dirs,model_ft,outsize=9)\n",
    "print(tr_smax.shape)\n",
    "print(test_smax.shape)"
   ]
  },
  {
   "cell_type": "code",
   "execution_count": null,
   "metadata": {
    "collapsed": false
   },
   "outputs": [],
   "source": [
    "tr_pred=np.argmax(tr_smax,axis=1)+1\n",
    "test_pred=np.argmax(test_smax,axis=1)+1\n",
    "print(tr_pred.shape)\n",
    "print(test_pred.shape)\n",
    "tr_err=np.abs(tr_cir-tr_pred)\n",
    "test_err=np.abs(test_cir-test_pred)\n",
    "#print(test_pred[test_cir==2])\n",
    "print('Training CIR-1 is '+str(np.mean(tr_err<=1)))\n",
    "print('Test CIR-1 is '+str(np.mean(test_err<=1)))"
   ]
  },
  {
   "cell_type": "code",
   "execution_count": null,
   "metadata": {
    "collapsed": false
   },
   "outputs": [],
   "source": [
    "print('Test CIR-1 is '+str(np.mean(test_err[:900]<=1)))\n",
    "print('Test CIR-1 is '+str(np.mean(test_err[900:1800]<=1)))\n",
    "print('Test CIR-1 is '+str(np.mean(test_err[1800:]<=1)))"
   ]
  },
  {
   "cell_type": "code",
   "execution_count": null,
   "metadata": {
    "collapsed": false
   },
   "outputs": [],
   "source": [
    "\n",
    "plt.hist(test_pred,bins=range(1,11))\n"
   ]
  },
  {
   "cell_type": "code",
   "execution_count": null,
   "metadata": {
    "collapsed": false
   },
   "outputs": [],
   "source": [
    "cir0,cir1,cir2=st.class_based_cirs(test_cir,test_pred)\n",
    "print(cir1)"
   ]
  },
  {
   "cell_type": "code",
   "execution_count": null,
   "metadata": {
    "collapsed": false
   },
   "outputs": [],
   "source": [
    "plt.figure(figsize=(15,10))\n",
    "sns.boxplot(tr_cir,tr_pred)\n",
    "plt.title('Synthetic Training Set')\n",
    "plt.xlabel('Ground Truth')\n",
    "plt.ylabel('Predictions')\n",
    "\n",
    "plt.figure(figsize=(15,10))\n",
    "sns.boxplot(test_cir,test_pred)\n",
    "plt.title('Synthetic Validation Set')\n",
    "plt.xlabel('Ground Truth')\n",
    "plt.ylabel('Predictions')"
   ]
  },
  {
   "cell_type": "code",
   "execution_count": null,
   "metadata": {
    "collapsed": false
   },
   "outputs": [],
   "source": [
    "sns.jointplot(tr_cir,tr_pred,marginal_kws=dict(bins=range(1,11), rug=True))\n",
    "plt.title('Joint plot for training')\n",
    "plt.figure()\n",
    "sns.jointplot(test_cir,test_pred,marginal_kws=dict(bins=range(1,11), rug=True))\n",
    "plt.title('Joint plot for validation')"
   ]
  },
  {
   "cell_type": "code",
   "execution_count": null,
   "metadata": {
    "collapsed": false,
    "deletable": true,
    "editable": true
   },
   "outputs": [],
   "source": [
    "model_params= list(model_ft.children())\n",
    "network = nn.Sequential(*list(model_params)[:-1])\n",
    "print(network)\n",
    "tr_fvec=st.extractFeats(tr_dirs,network,batchsize=8,outsize=2048)\n",
    "test_fvec=st.extractFeats(test_dirs,network,batchsize=8,outsize=2048)\n",
    "\n",
    "print('Constructed Features')\n",
    "\n",
    "model = TSNE(n_components=2, random_state=0)\n",
    "np.set_printoptions(suppress=True)\n",
    "tr_tsne=model.fit_transform(tr_fvec) \n",
    "test_tsne=model.fit_transform(test_fvec)\n",
    "\n",
    "print('Constructed t-SNE embeddings')"
   ]
  },
  {
   "cell_type": "code",
   "execution_count": null,
   "metadata": {
    "collapsed": true
   },
   "outputs": [],
   "source": [
    "tsne_resnet=test_tsne.copy()"
   ]
  },
  {
   "cell_type": "code",
   "execution_count": null,
   "metadata": {
    "collapsed": false,
    "scrolled": false
   },
   "outputs": [],
   "source": [
    "plt.figure(figsize=(20,8))\n",
    "plt.subplot(121)\n",
    "plt.scatter(tr_tsne[:,0], tr_tsne[:,1], c=tr_cir, alpha=0.5)#,cmap='jet')\n",
    "plt.colorbar()\n",
    "plt.title('Training')\n",
    "plt.subplot(122)\n",
    "plt.scatter(test_tsne[:,0], test_tsne[:,1], c=test_cir, alpha=0.5)#,cmap='jet')\n",
    "plt.colorbar()\n",
    "plt.title('Validation')"
   ]
  },
  {
   "cell_type": "code",
   "execution_count": null,
   "metadata": {
    "collapsed": false,
    "deletable": true,
    "editable": true
   },
   "outputs": [],
   "source": [
    "st.plotAll(tr_tsne,tr_cir,tr_house,tr_room,data_title='Training')\n",
    "st.plotAll(test_tsne,test_cir,test_house,test_room,data_title='Test')"
   ]
  },
  {
   "cell_type": "code",
   "execution_count": null,
   "metadata": {
    "collapsed": false,
    "deletable": true,
    "editable": true
   },
   "outputs": [],
   "source": [
    "st.plotAll(tr_tsne,tr_cir,tr_house,tr_room,data_title='Training')\n",
    "st.plotAll(test_tsne,test_cir,test_house,test_room,data_title='Test')"
   ]
  }
 ],
 "metadata": {
  "kernelspec": {
   "display_name": "Python 3",
   "language": "python",
   "name": "python3"
  },
  "language_info": {
   "codemirror_mode": {
    "name": "ipython",
    "version": 3
   },
   "file_extension": ".py",
   "mimetype": "text/x-python",
   "name": "python",
   "nbconvert_exporter": "python",
   "pygments_lexer": "ipython3",
   "version": "3.6.0"
  }
 },
 "nbformat": 4,
 "nbformat_minor": 2
}
