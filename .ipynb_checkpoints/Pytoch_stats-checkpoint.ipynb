{
 "cells": [
  {
   "cell_type": "code",
   "execution_count": 1,
   "metadata": {
    "collapsed": false
   },
   "outputs": [
    {
     "name": "stderr",
     "output_type": "stream",
     "text": [
      "/home/mtezcan/anaconda3/lib/python3.6/site-packages/torchsample-0.1.2-py3.6.egg/torchsample/datasets.py:16: UserWarning: Cant import nibabel.. Cant load brain images\n"
     ]
    }
   ],
   "source": [
    "%matplotlib inline\n",
    "# License: BSD\n",
    "# Author: Sasank Chilamkurthy\n",
    "\n",
    "from __future__ import print_function, division\n",
    "\n",
    "import torch\n",
    "import torch.nn as nn\n",
    "import torch.optim as optim\n",
    "from torch.autograd import Variable\n",
    "import numpy as np\n",
    "import torchvision\n",
    "from torchvision import datasets, models, transforms\n",
    "import torchsample\n",
    "from torchsample import transforms as ts_transforms\n",
    "import matplotlib.pyplot as plt\n",
    "import time\n",
    "import copy\n",
    "import os\n",
    "from PIL import Image\n",
    "from sklearn.manifold import TSNE\n",
    "\n",
    "from torchsample.transforms import RangeNorm\n",
    "\n",
    "import functions.fine_tune as ft\n",
    "import functions.stats as st\n",
    "\n",
    "plt.ion()   # interactive mode"
   ]
  },
  {
   "cell_type": "code",
   "execution_count": 2,
   "metadata": {
    "collapsed": true
   },
   "outputs": [],
   "source": [
    "model_ft=torch.load('./saved_models/resnet_synthetic_7_8_17.mdl')\n",
    "criterion = nn.CrossEntropyLoss()\n",
    "#optimizer_ft = optim.Adam(model_ft.parameters())\n",
    "optimizer_ft = optim.SGD(model_ft.parameters(), lr=0.001, momentum=0.9)\n",
    "#model_ft=model_ft.cpu()"
   ]
  },
  {
   "cell_type": "code",
   "execution_count": 3,
   "metadata": {
    "collapsed": true
   },
   "outputs": [],
   "source": [
    "rootdir='//media//mtezcan//New Volume//HoardingImages//_rated//'  \n",
    "tr_dirs, tr_cir, tr_house, tr_room = st.subsetCreator(rootdir)\n",
    "\n",
    "rootdir='//media//mtezcan//New Volume//HoardingImages//_val//'  \n",
    "test_dirs, test_cir, test_house, test_room = st.subsetCreator(rootdir,im_per_room=100)\n",
    "\n",
    "print('Created random directories')\n",
    "\n",
    "model_params= list(model_ft.children())\n",
    "network = nn.Sequential(*list(model_params)[:-1])\n",
    "tr_fvec=st.extractFeats(tr_dirs,network)\n",
    "test_fvec=st.extractFeats(test_dirs,network)\n",
    "\n",
    "print('Constructed Features')\n",
    "\n",
    "model = TSNE(n_components=2, random_state=0)\n",
    "np.set_printoptions(suppress=True)\n",
    "tr_tsne=model.fit_transform(tr_fvec) \n",
    "test_tsne=model.fit_transform(test_fvec)\n",
    "\n",
    "print('Constructed t-SNE embeddings')"
   ]
  },
  {
   "cell_type": "code",
   "execution_count": null,
   "metadata": {
    "collapsed": true
   },
   "outputs": [],
   "source": [
    "plotAll(tr_tsne,tr_cir,tr_house,tr_room,data_title='Training')\n",
    "plotAll(test_tsne,test_cir,test_house,test_room,data_title='Test')"
   ]
  }
 ],
 "metadata": {
  "kernelspec": {
   "display_name": "Python 3",
   "language": "python",
   "name": "python3"
  },
  "language_info": {
   "codemirror_mode": {
    "name": "ipython",
    "version": 3
   },
   "file_extension": ".py",
   "mimetype": "text/x-python",
   "name": "python",
   "nbconvert_exporter": "python",
   "pygments_lexer": "ipython3",
   "version": "3.6.0"
  }
 },
 "nbformat": 4,
 "nbformat_minor": 2
}
