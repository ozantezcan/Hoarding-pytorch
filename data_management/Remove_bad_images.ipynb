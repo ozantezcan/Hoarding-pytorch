{
 "cells": [
  {
   "cell_type": "code",
   "execution_count": 31,
   "metadata": {
    "collapsed": true
   },
   "outputs": [],
   "source": [
    "import os\n",
    "import numpy as np\n",
    "import matplotlib.pyplot as plt\n",
    "%matplotlib inline  "
   ]
  },
  {
   "cell_type": "code",
   "execution_count": 24,
   "metadata": {
    "collapsed": false
   },
   "outputs": [
    {
     "name": "stdout",
     "output_type": "stream",
     "text": [
      "Number of files before deletion is 1758\n",
      "Number of files after deletion is 1465\n",
      "Number of files before deletion is 3732\n",
      "Number of files after deletion is 3110\n",
      "Number of files before deletion is 7494\n",
      "Number of files after deletion is 6245\n",
      "Number of files before deletion is 9480\n",
      "Number of files after deletion is 7900\n",
      "Number of files before deletion is 19770\n",
      "Number of files after deletion is 16475\n",
      "Number of files before deletion is 3378\n",
      "Number of files after deletion is 2815\n",
      "Number of files before deletion is 2934\n",
      "Number of files after deletion is 2445\n",
      "Number of files before deletion is 1398\n",
      "Number of files after deletion is 1165\n",
      "Number of files before deletion is 0\n",
      "Number of files after deletion is 0\n"
     ]
    }
   ],
   "source": [
    "rootdir='//media//mtezcan//New Volume//HoardingImages//_rated//SmallApt_2017-06-29-rated//LR//'\n",
    "\n",
    "\n",
    "\n",
    "for cir in range(1,10):\n",
    "    currentdir=rootdir+'//'+str(cir)+'//'\n",
    "    files=os.listdir(currentdir)\n",
    "    print('Number of files before deletion is ' + str(len(files)))\n",
    "    for fle in files:\n",
    "        if fle.startswith('cam2'):\n",
    "            os.remove(currentdir+fle)\n",
    "    files=os.listdir(currentdir)\n",
    "    print('Number of files after deletion is ' + str(len(files)))"
   ]
  },
  {
   "cell_type": "code",
   "execution_count": 40,
   "metadata": {
    "collapsed": false
   },
   "outputs": [
    {
     "name": "stdout",
     "output_type": "stream",
     "text": [
      "[  20433.   54520.   63881.   87124.  124886.   55726.   81281.   71570.\n",
      "   43374.]\n"
     ]
    },
    {
     "data": {
      "text/plain": [
       "<Container object of 3 artists>"
      ]
     },
     "execution_count": 40,
     "metadata": {},
     "output_type": "execute_result"
    },
    {
     "data": {
      "image/png": "[encoded data removed]",
      "text/plain": [
       "<matplotlib.figure.Figure at 0x7f747a73fe48>"
      ]
     },
     "metadata": {},
     "output_type": "display_data"
    }
   ],
   "source": [
    "rootdir='//media//mtezcan//New Volume//HoardingImages//_rated//'\n",
    "subdirs = os.listdir('//media//mtezcan//New Volume//HoardingImages//_rated')\n",
    "roomdirs=['//BR','//Kitchen','//LR']\n",
    "\n",
    "#print(len(os.listdir(rootdir+subdirs[0]+roomdirs[0]+'//1')))\n",
    "\n",
    "room_hist=np.zeros((3,9))\n",
    "for rm in range(len(roomdirs)):\n",
    "    for subdir in subdirs:\n",
    "        currentdir=rootdir+subdir+roomdirs[rm]+'//'\n",
    "        for cir in range(1,10):\n",
    "            room_hist[rm,cir-1]+=len(os.listdir(currentdir+str(cir)))\n",
    "\n",
    "cir_hist=np.sum(room_hist,axis=0)\n",
    "print(cir_hist)\n",
    "plt.stem(cir_hist)\n",
    "plt.stem(room_hist[2,:])\n",
    "            \n",
    "    "
   ]
  }
 ],
 "metadata": {
  "kernelspec": {
   "display_name": "Python 3",
   "language": "python",
   "name": "python3"
  },
  "language_info": {
   "codemirror_mode": {
    "name": "ipython",
    "version": 3
   },
   "file_extension": ".py",
   "mimetype": "text/x-python",
   "name": "python",
   "nbconvert_exporter": "python",
   "pygments_lexer": "ipython3",
   "version": "3.6.0"
  }
 },
 "nbformat": 4,
 "nbformat_minor": 2
}
