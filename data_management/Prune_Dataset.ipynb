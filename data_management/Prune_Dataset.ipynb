{
 "cells": [
  {
   "cell_type": "code",
   "execution_count": 1,
   "metadata": {
    "collapsed": true
   },
   "outputs": [],
   "source": [
    "import os\n",
    "import shutil"
   ]
  },
  {
   "cell_type": "code",
   "execution_count": null,
   "metadata": {
    "collapsed": true
   },
   "outputs": [],
   "source": [
    "rootdir='//media//mtezcan//New Volume/HoardingImages//_rated//'\n",
    "subdirs=os.listdir(rootdir)\n",
    "print(subdirs)\n",
    "roomdirs=['//BR','//Kitchen','//LR']\n",
    "data_dir = '..//Data_Sets//pruned//good'\n"
   ]
  },
  {
   "cell_type": "code",
   "execution_count": 26,
   "metadata": {
    "collapsed": false
   },
   "outputs": [],
   "source": [
    "rootdir = '..//Data_Sets//pruned'\n",
    "subdirs = ['//good','//bad','//challenging']\n",
    "\n",
    "for subdir in subdirs:\n",
    "    for k in range(1,10):\n",
    "        if(not os.path.exists(rootdir+subdir+'//'+str(k))):\n",
    "            os.makedirs(rootdir+subdir+'//'+str(k))\n",
    "        imgs=os.listdir(rootdir+subdir)\n",
    "        for img in imgs:\n",
    "            if(img.endswith('jpg')):\n",
    "                cir = img.split('CIR-')[1].split('.')[0]\n",
    "                targetdir=rootdir+subdir+'//'+img\n",
    "                destdir=rootdir+subdir+'//'+str(cir)+'//'+img\n",
    "                shutil.copy2(targetdir,destdir)\n",
    "            \n"
   ]
  },
  {
   "cell_type": "code",
   "execution_count": 5,
   "metadata": {
    "collapsed": false
   },
   "outputs": [
    {
     "name": "stdout",
     "output_type": "stream",
     "text": [
      "Number of CIR 1 images is 2520\n",
      "Number of CIR 2 images is 5982\n",
      "Number of CIR 3 images is 7974\n",
      "Number of CIR 4 images is 11016\n",
      "Number of CIR 5 images is 13578\n",
      "Number of CIR 6 images is 5856\n",
      "Number of CIR 7 images is 6576\n",
      "Number of CIR 8 images is 1794\n",
      "Number of CIR 9 images is 3354\n"
     ]
    }
   ],
   "source": [
    "# create train eval\n",
    "import numpy as np\n",
    "eval_perc=.03\n",
    "\n",
    "rootdir='//media//mtezcan//New Volume//HoardingImages//_val//House//Kitchen'\n",
    "\n",
    "for cir in range(1,10):\n",
    "    if(not os.path.exists(rootdir+'//train//'+str(cir))):\n",
    "        os.makedirs(rootdir+'//train//'+str(cir))\n",
    "    if(not os.path.exists(rootdir+'//val'+str(cir))):\n",
    "        os.makedirs(rootdir+'//val//'+str(cir))\n",
    "        \n",
    "    imgs=os.listdir(rootdir+'//'+str(cir))\n",
    "    num_imgs=len(imgs)\n",
    "    #num_eval=np.round(eval_perc*num_imgs).astype(np.int)\n",
    "    num_eval=100\n",
    "    idxs=np.random.permutation(num_imgs)\n",
    "    print('Number of CIR '+str(cir)+' images is '+str(len(imgs)))\n",
    "    for k in range(num_eval):\n",
    "        targetdir=rootdir+'//'+str(cir)+'//'+imgs[k]\n",
    "        destdir=rootdir+'//val//'+str(cir)+'//'+imgs[k]\n",
    "        shutil.copy2(targetdir,destdir)\n",
    "    '''for k in range(num_eval,num_imgs):\n",
    "        targetdir=rootdir+'//'+str(cir)+'//'+imgs[k]\n",
    "        destdir=rootdir+'//train//'+str(cir)+'//'+imgs[k]\n",
    "        shutil.copy2(targetdir,destdir)'''\n",
    "    \n",
    "    "
   ]
  }
 ],
 "metadata": {
  "kernelspec": {
   "display_name": "Python 3",
   "language": "python",
   "name": "python3"
  },
  "language_info": {
   "codemirror_mode": {
    "name": "ipython",
    "version": 3
   },
   "file_extension": ".py",
   "mimetype": "text/x-python",
   "name": "python",
   "nbconvert_exporter": "python",
   "pygments_lexer": "ipython3",
   "version": "3.6.0"
  }
 },
 "nbformat": 4,
 "nbformat_minor": 2
}
