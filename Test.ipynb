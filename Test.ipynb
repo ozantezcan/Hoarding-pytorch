{
 "cells": [
  {
   "cell_type": "code",
   "execution_count": 37,
   "metadata": {
    "collapsed": false
   },
   "outputs": [],
   "source": [
    "import openpyxl\n",
    "import time\n",
    "\n",
    "iter_loc=12\n",
    "book = openpyxl.load_workbook('logs.xlsx')\n",
    "sheet = book.active\n",
    "sheet.append((1,2,3,4,5,6,7,8,9))\n",
    "n=sheet.max_row\n",
    "sheet.cell(row=n,column=7).value=123\n",
    "\n",
    "book.save('logs.xlsx')\n",
    "\n",
    "sheet.append((1,2,3,4,5,6,7,8,9))\n",
    "book.save('logs.xlsx')"
   ]
  },
  {
   "cell_type": "code",
   "execution_count": null,
   "metadata": {
    "collapsed": true
   },
   "outputs": [],
   "source": []
  }
 ],
 "metadata": {
  "kernelspec": {
   "display_name": "Python 3",
   "language": "python",
   "name": "python3"
  },
  "language_info": {
   "codemirror_mode": {
    "name": "ipython",
    "version": 3
   },
   "file_extension": ".py",
   "mimetype": "text/x-python",
   "name": "python",
   "nbconvert_exporter": "python",
   "pygments_lexer": "ipython3",
   "version": "3.6.0"
  }
 },
 "nbformat": 4,
 "nbformat_minor": 2
}
